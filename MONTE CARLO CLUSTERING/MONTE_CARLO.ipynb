{
  "nbformat": 4,
  "nbformat_minor": 0,
  "metadata": {
    "colab": {
      "name": "MONTE CARLO.ipynb",
      "provenance": [],
      "collapsed_sections": []
    },
    "kernelspec": {
      "name": "python3",
      "display_name": "Python 3"
    }
  },
  "cells": [
    {
      "cell_type": "code",
      "metadata": {
        "id": "dypWWibm976N",
        "outputId": "0bacfb0e-054a-432b-ce3a-842f4abbe262",
        "colab": {
          "base_uri": "https://localhost:8080/"
        }
      },
      "source": [
        "import random \n",
        "  \n",
        "INTERVAL= 1000\n",
        "  \n",
        "circle_points= 0\n",
        "square_points= 0\n",
        "  \n",
        "# Total Random numbers generated= possible x \n",
        "# values* possible y values \n",
        "for i in range(INTERVAL**2): \n",
        "  \n",
        "    # Randomly generated x and y values from a \n",
        "    # uniform distribution \n",
        "    # Rannge of x and y values is -1 to 1 \n",
        "    rand_x= random.uniform(-1, 1) \n",
        "    rand_y= random.uniform(-1, 1) \n",
        "  \n",
        "    # Distance between (x, y) from the origin \n",
        "    origin_dist= rand_x**2 + rand_y**2\n",
        "  \n",
        "    # Checking if (x, y) lies inside the circle \n",
        "    if origin_dist<= 1: \n",
        "        circle_points+= 1\n",
        "  \n",
        "    square_points+= 1\n",
        "  \n",
        "    # Estimating value of pi, \n",
        "    # pi= 4*(no. of points generated inside the  \n",
        "    # circle)/ (no. of points generated inside the square) \n",
        "    pi = 4* circle_points/ square_points \n",
        "  \n",
        "##    print(rand_x, rand_y, circle_points, square_points, \"-\", pi) \n",
        "##    print(\"\\n\") \n",
        "  \n",
        "print(\"Final Estimation of Pi=\", pi)"
      ],
      "execution_count": 1,
      "outputs": [
        {
          "output_type": "stream",
          "text": [
            "Final Estimation of Pi= 3.14006\n"
          ],
          "name": "stdout"
        }
      ]
    },
    {
      "cell_type": "code",
      "metadata": {
        "id": "HH6nwKBz-H2q",
        "outputId": "7987f2e5-da9e-4a52-9483-cd95dfcc600e",
        "colab": {
          "base_uri": "https://localhost:8080/",
          "height": 647
        }
      },
      "source": [
        "#!/usr/bin/env python\n",
        "from __future__ import division\n",
        "from random import random\n",
        "from math import pi\n",
        "import matplotlib.pyplot as plt\n",
        "\"\"\"\n",
        "Script to simulate rain in a square field. Counting the number of rain drops in the inscribed circle of radius equal to the length of the field. The ratio of the number of drops in the circle to the total number of drops gives $\\pi$.\n",
        "\"\"\"\n",
        "\n",
        "\n",
        "def rain_drop(length_of_field=1):\n",
        "    \"\"\"\n",
        "    Simulate a random rain drop\n",
        "    \"\"\"\n",
        "    return [(.5 - random()) * length_of_field, (.5 - random()) * length_of_field]\n",
        "\n",
        "\n",
        "def is_point_in_circle(point, length_of_field=1):\n",
        "    \"\"\"\n",
        "    Return True if point is in inscribed circle\n",
        "    \"\"\"\n",
        "    return (point[0]) ** 2 + (point[1]) ** 2 <= (length_of_field / 2) ** 2\n",
        "\n",
        "\n",
        "def plot_rain_drops(drops_in_circle, drops_out_of_circle, length_of_field=1, format='pdf'):\n",
        "    \"\"\" Function to draw rain drops \"\"\"\n",
        "    number_of_drops_in_circle = len(drops_in_circle)\n",
        "    number_of_drops_out_of_circle = len(drops_out_of_circle)\n",
        "    number_of_drops = number_of_drops_in_circle + number_of_drops_out_of_circle\n",
        "    plt.figure()\n",
        "    plt.xlim(-length_of_field / 2, length_of_field / 2)\n",
        "    plt.ylim(-length_of_field / 2, length_of_field / 2)\n",
        "    plt.scatter([e[0] for e in drops_in_circle], [e[1] for e in drops_in_circle], color='blue', label=\"Drops in circle\")\n",
        "    plt.scatter([e[0] for e in drops_out_of_circle], [e[1] for e in drops_out_of_circle], color='black', label=\"Drops out of circle\")\n",
        "    plt.legend(loc=\"center\")\n",
        "    plt.title(\"%s drops: %s landed in circle, estimating $\\pi$ as %.4f.\" % (number_of_drops, number_of_drops_in_circle, 4 * number_of_drops_in_circle / number_of_drops))\n",
        "    plt.savefig(\"%s_drops.%s\" % (number_of_drops, format))\n",
        "\n",
        "\n",
        "def rain(number_of_drops=1000, length_of_field=1, plot=True, format='pdf', dynamic=False):\n",
        "    \"\"\"\n",
        "    Function to make rain drops.\n",
        "    \"\"\"\n",
        "    number_of_drops_in_circle = 0\n",
        "    drops_in_circle = []\n",
        "    drops_out_of_circle = []\n",
        "    pi_estimate = []\n",
        "    for k in range(number_of_drops):\n",
        "        d = (rain_drop(length_of_field))\n",
        "        if is_point_in_circle(d, length_of_field):\n",
        "            drops_in_circle.append(d)\n",
        "            number_of_drops_in_circle += 1\n",
        "        else:\n",
        "            drops_out_of_circle.append(d)\n",
        "        if dynamic:  # The dynamic option if set to True will plot every new drop (this can be used to create animations of the simulation)\n",
        "            print (\"Plotting drop number: %s\" % (k + 1))\n",
        "            plot_rain_drops(drops_in_circle, drops_out_of_circle, length_of_field, format)\n",
        "        pi_estimate.append(4 * number_of_drops_in_circle / (k + 1))  # This updates the list with the newest estimate for pi.\n",
        "    # Plot the pi estimates\n",
        "    plt.figure()\n",
        "    plt.scatter(range(1, number_of_drops + 1), pi_estimate)\n",
        "    max_x = plt.xlim()[1]\n",
        "    plt.hlines(pi, 0, max_x, color='black')\n",
        "    plt.xlim(0, max_x)\n",
        "    plt.title(\"$\\pi$ estimate against number of rain drops\")\n",
        "    plt.xlabel(\"Number of rain drops\")\n",
        "    plt.ylabel(\"$\\pi$\")\n",
        "    plt.savefig(\"Pi_estimate_for_%s_drops_thrown.pdf\" % number_of_drops)\n",
        "\n",
        "    if plot and not dynamic:\n",
        "        # If the plot option is passed and matplotlib is installed this plots\n",
        "        # the final set of drops\n",
        "        plot_rain_drops(drops_in_circle, drops_out_of_circle, length_of_field, format)\n",
        "\n",
        "    return [number_of_drops_in_circle, number_of_drops]\n",
        "\n",
        "\n",
        "if __name__ == \"__main__\":\n",
        "    # Run the script from cli\n",
        "    from sys import argv\n",
        "    number_of_drops = 10\n",
        "   # if len(argv) > 1:  # If an argument is passed then change number of drops to be simulated.\n",
        "        #number_of_drops = eval(argv[1])\n",
        "    #  Two sets of simulations (comment out the unwanted one).\n",
        "    #r = rain(number_of_drops, plot=True, format='png', dynamic=True)\n",
        "    r = rain(number_of_drops, plot=True, format='png', dynamic=False)\n",
        "    # Print to screen:\n",
        "    print (\"----------------------\")\n",
        "    print (\"%s drops\" % number_of_drops)\n",
        "    print( \"pi estimated as:\")\n",
        "    print( \"\\t%s\" % (4 * r[0] / r[1]))\n",
        "    print( \"----------------------\")"
      ],
      "execution_count": 3,
      "outputs": [
        {
          "output_type": "stream",
          "text": [
            "----------------------\n",
            "10 drops\n",
            "pi estimated as:\n",
            "\t4.0\n",
            "----------------------\n"
          ],
          "name": "stdout"
        },
        {
          "output_type": "display_data",
          "data": {
            "image/png": "[encoded data removed]",
            "text/plain": [
              "<Figure size 432x288 with 1 Axes>"
            ]
          },
          "metadata": {
            "tags": [],
            "needs_background": "light"
          }
        },
        {
          "output_type": "display_data",
          "data": {
            "image/png": "[encoded data removed]",
            "text/plain": [
              "<Figure size 432x288 with 1 Axes>"
            ]
          },
          "metadata": {
            "tags": [],
            "needs_background": "light"
          }
        }
      ]
    }
  ]
}